{
 "cells": [
  {
   "cell_type": "code",
   "execution_count": 2,
   "id": "f771b961",
   "metadata": {},
   "outputs": [],
   "source": [
    "import os"
   ]
  },
  {
   "cell_type": "code",
   "execution_count": 9,
   "id": "18f005d0",
   "metadata": {},
   "outputs": [
    {
     "data": {
      "text/plain": [
       "['CRU_50km_pre_1901-2021_monthly_India.csv',\n",
       " 'CRU_50km_pre_1901-2021_monthly_NWH.csv',\n",
       " 'CRU_50km_tmn_1901-2021_monthly_India.csv',\n",
       " 'CRU_50km_tmn_1901-2021_monthly_NWH.csv',\n",
       " 'CRU_50km_tmp_1901-2021_monthly_India.csv',\n",
       " 'CRU_50km_tmp_1901-2021_monthly_NWH.csv',\n",
       " 'CRU_50km_tmx_1901-2021_monthly_India.csv',\n",
       " 'CRU_50km_tmx_1901-2021_monthly_NWH.csv']"
      ]
     },
     "execution_count": 9,
     "metadata": {},
     "output_type": "execute_result"
    }
   ],
   "source": [
    "files = os.listdir(\"./CRU_50km_monthly_1901-2020-20221013T040033Z-001/CRU_50km_monthly_1901-2020\")\n",
    "select_data = []\n",
    "for i in files:\n",
    "    if '.csv' in i:\n",
    "        select_data.append(i)\n",
    "select_data"
   ]
  }
 ],
 "metadata": {
  "kernelspec": {
   "display_name": "Python 3 (ipykernel)",
   "language": "python",
   "name": "python3"
  },
  "language_info": {
   "codemirror_mode": {
    "name": "ipython",
    "version": 3
   },
   "file_extension": ".py",
   "mimetype": "text/x-python",
   "name": "python",
   "nbconvert_exporter": "python",
   "pygments_lexer": "ipython3",
   "version": "3.10.4"
  }
 },
 "nbformat": 4,
 "nbformat_minor": 5
}
